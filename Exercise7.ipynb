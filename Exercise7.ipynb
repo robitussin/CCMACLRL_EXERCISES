{
  "nbformat": 4,
  "nbformat_minor": 0,
  "metadata": {
    "colab": {
      "provenance": [],
      "authorship_tag": "ABX9TyOol7DhPSmLQ7tHsNhpi55q",
      "include_colab_link": true
    },
    "kernelspec": {
      "name": "python3",
      "display_name": "Python 3"
    },
    "language_info": {
      "name": "python"
    }
  },
  "cells": [
    {
      "cell_type": "markdown",
      "metadata": {
        "id": "view-in-github",
        "colab_type": "text"
      },
      "source": [
        "<a href=\"https://colab.research.google.com/github/robitussin/CCMACLRL_EXERCISES/blob/main/Exercise7.ipynb\" target=\"_parent\"><img src=\"https://colab.research.google.com/assets/colab-badge.svg\" alt=\"Open In Colab\"/></a>"
      ]
    },
    {
      "cell_type": "markdown",
      "source": [
        "# Exercise 7: Hate Speech Classification using Multinomial Naive Bayes\n",
        "\n",
        "Instructions:\n",
        "- You do not need to split your data. Use the training, validation and test sets provided below.\n",
        "- Use Multinomial Naive Bayes to train a model that can classify if a sentence is a hate speech or non-hate speech\n",
        "- A sentence with a label of zero (0) is classified as non-hate speech\n",
        "- A sentence with a label of one (1) is classified as a hate speech\n",
        "\n",
        "Apply text pre-processing techniques such as\n",
        "- Converting to lowercase\n",
        "- Stop word Removal\n",
        "- Removal of digits, special characters\n",
        "- Stemming or Lemmatization but not both\n",
        "- Count Vectorizer or TF-IDF Vectorizer but not both\n",
        "\n",
        "Evaluate your model by:\n",
        "- Providing input by yourself\n",
        "- Creating a Confusion Matrix\n",
        "- Calculating the Accuracy, Precision, Recall and F1-Score"
      ],
      "metadata": {
        "id": "2GaQuj0Ihf9s"
      }
    },
    {
      "cell_type": "code",
      "execution_count": 1,
      "metadata": {
        "id": "k7PqvnUChZy6"
      },
      "outputs": [],
      "source": [
        "import pandas as pd"
      ]
    },
    {
      "cell_type": "code",
      "source": [
        "splits = {'train': 'unique_train_dataset.csv', 'validation': 'unique_validation_dataset.csv', 'test': 'unique_test_dataset.csv'}"
      ],
      "metadata": {
        "id": "rJNoJf2gkaou"
      },
      "execution_count": 2,
      "outputs": []
    },
    {
      "cell_type": "markdown",
      "source": [
        "**Training Set**\n",
        "\n",
        "Use this to train your model"
      ],
      "metadata": {
        "id": "LszdWP_3jN7z"
      }
    },
    {
      "cell_type": "code",
      "source": [
        "df_train = pd.read_csv(\"hf://datasets/mapsoriano/2016_2022_hate_speech_filipino/\" + splits[\"train\"])"
      ],
      "metadata": {
        "id": "WMeIHIHWlR3-",
        "outputId": "921a0c6d-83c9-477c-dabc-ec65684ce0c8",
        "colab": {
          "base_uri": "https://localhost:8080/"
        }
      },
      "execution_count": 3,
      "outputs": [
        {
          "output_type": "stream",
          "name": "stderr",
          "text": [
            "/usr/local/lib/python3.10/dist-packages/huggingface_hub/utils/_token.py:89: UserWarning: \n",
            "The secret `HF_TOKEN` does not exist in your Colab secrets.\n",
            "To authenticate with the Hugging Face Hub, create a token in your settings tab (https://huggingface.co/settings/tokens), set it as secret in your Google Colab and restart your session.\n",
            "You will be able to reuse this secret in all of your notebooks.\n",
            "Please note that authentication is recommended but still optional to access public models or datasets.\n",
            "  warnings.warn(\n"
          ]
        }
      ]
    },
    {
      "cell_type": "markdown",
      "source": [
        "**Validation Set**\n",
        "\n",
        "Use this set to evaluate your model"
      ],
      "metadata": {
        "id": "iQIg6P7PjQBo"
      }
    },
    {
      "cell_type": "code",
      "source": [
        "df_validation = pd.read_csv(\"hf://datasets/mapsoriano/2016_2022_hate_speech_filipino/\" + splits[\"validation\"])"
      ],
      "metadata": {
        "id": "VRB2t37Nk6A6"
      },
      "execution_count": 4,
      "outputs": []
    },
    {
      "cell_type": "markdown",
      "source": [
        "**Test Set**\n",
        "  \n",
        "Use this set to test your model"
      ],
      "metadata": {
        "id": "9zDlyRsEnOSR"
      }
    },
    {
      "cell_type": "code",
      "source": [
        "df_test = pd.read_csv(\"hf://datasets/mapsoriano/2016_2022_hate_speech_filipino/\" + splits[\"test\"])"
      ],
      "metadata": {
        "id": "OxpoTxoilJ7e"
      },
      "execution_count": 5,
      "outputs": []
    },
    {
      "cell_type": "markdown",
      "source": [
        "## A. Understanding your training data"
      ],
      "metadata": {
        "id": "Q4mSMMNIgKhZ"
      }
    },
    {
      "cell_type": "markdown",
      "source": [
        "1. Check the first 10 rows of the training dataset"
      ],
      "metadata": {
        "id": "h0rMaAu9gq1G"
      }
    },
    {
      "cell_type": "code",
      "source": [
        "# put your answer here"
      ],
      "metadata": {
        "id": "dXIzpHtzguWw"
      },
      "execution_count": 6,
      "outputs": []
    },
    {
      "cell_type": "markdown",
      "source": [
        "2. Check how many rows and columns are in the training dataset using `.info()`"
      ],
      "metadata": {
        "id": "fqahy2swgvRP"
      }
    },
    {
      "cell_type": "code",
      "source": [
        "# put your answer here"
      ],
      "metadata": {
        "id": "4LaHZrsghAGI"
      },
      "execution_count": 7,
      "outputs": []
    },
    {
      "cell_type": "markdown",
      "source": [
        "3. Check for NaN values"
      ],
      "metadata": {
        "id": "pGO5JHqpgY27"
      }
    },
    {
      "cell_type": "code",
      "source": [
        "# put your answer here"
      ],
      "metadata": {
        "id": "gw0ntqg4gWSl"
      },
      "execution_count": 8,
      "outputs": []
    },
    {
      "cell_type": "markdown",
      "source": [
        "4. Check for duplicate rows"
      ],
      "metadata": {
        "id": "11tJwLFCgbCE"
      }
    },
    {
      "cell_type": "code",
      "source": [
        "# put your answer here"
      ],
      "metadata": {
        "id": "9rJwyKDZge6Q"
      },
      "execution_count": 9,
      "outputs": []
    },
    {
      "cell_type": "markdown",
      "source": [
        "5. Check how many rows belong to each class"
      ],
      "metadata": {
        "id": "P1twAxT9ggMp"
      }
    },
    {
      "cell_type": "code",
      "source": [
        "# put your answer here"
      ],
      "metadata": {
        "id": "CSFc4cFugk9h"
      },
      "execution_count": 10,
      "outputs": []
    },
    {
      "cell_type": "markdown",
      "source": [
        "## B. Text pre-processing"
      ],
      "metadata": {
        "id": "EVVSotUIgSuJ"
      }
    },
    {
      "cell_type": "markdown",
      "source": [
        "6. Remove duplicate rows"
      ],
      "metadata": {
        "id": "h31QlJJCd22I"
      }
    },
    {
      "cell_type": "code",
      "source": [
        "# put your answer here"
      ],
      "metadata": {
        "id": "ZMaUVsgReHKP"
      },
      "execution_count": 11,
      "outputs": []
    },
    {
      "cell_type": "markdown",
      "source": [
        "7. Remove rows with NaN values"
      ],
      "metadata": {
        "id": "U0FJLJwueBb2"
      }
    },
    {
      "cell_type": "code",
      "source": [
        "# put your answer here"
      ],
      "metadata": {
        "id": "pzegxzl0eKxA"
      },
      "execution_count": 12,
      "outputs": []
    },
    {
      "cell_type": "markdown",
      "source": [
        "8. Convert all text to lowercase"
      ],
      "metadata": {
        "id": "0uEgbwrEeO0y"
      }
    },
    {
      "cell_type": "code",
      "source": [
        "# put your answer here"
      ],
      "metadata": {
        "id": "b_TN15G4eSjV"
      },
      "execution_count": 13,
      "outputs": []
    },
    {
      "cell_type": "markdown",
      "source": [
        "9. Remove digits, URLS and special characters"
      ],
      "metadata": {
        "id": "dejH8IW7eU7h"
      }
    },
    {
      "cell_type": "code",
      "source": [
        "# put your answer here"
      ],
      "metadata": {
        "id": "XiPCD1mXeeP3"
      },
      "execution_count": 14,
      "outputs": []
    },
    {
      "cell_type": "markdown",
      "source": [
        "10. Remove stop words"
      ],
      "metadata": {
        "id": "717MNDtMedlC"
      }
    },
    {
      "cell_type": "code",
      "source": [
        "# put your answer here"
      ],
      "metadata": {
        "id": "Y4wKDC8-eg82"
      },
      "execution_count": 15,
      "outputs": []
    },
    {
      "cell_type": "markdown",
      "source": [
        "11. Use Stemming or Lemmatization"
      ],
      "metadata": {
        "id": "j4jPfb1_eiAA"
      }
    },
    {
      "cell_type": "code",
      "source": [
        "# put your answer here"
      ],
      "metadata": {
        "id": "Ip0oDYsviKg1"
      },
      "execution_count": 16,
      "outputs": []
    },
    {
      "cell_type": "markdown",
      "source": [
        "## C. Training your model"
      ],
      "metadata": {
        "id": "CHBLOTfShuZJ"
      }
    },
    {
      "cell_type": "markdown",
      "source": [
        "12. Put all text training data in variable **X_train**"
      ],
      "metadata": {
        "id": "mN-fGuYCh247"
      }
    },
    {
      "cell_type": "code",
      "source": [
        "# put your answer here"
      ],
      "metadata": {
        "id": "JpH-V0Mbh98u"
      },
      "execution_count": 17,
      "outputs": []
    },
    {
      "cell_type": "markdown",
      "source": [
        "13. Put all training data labels in variable **y_train**"
      ],
      "metadata": {
        "id": "BTIRnIgTh-fj"
      }
    },
    {
      "cell_type": "code",
      "source": [
        "# put your answer here"
      ],
      "metadata": {
        "id": "u5cLdnzLiDGJ"
      },
      "execution_count": 18,
      "outputs": []
    },
    {
      "cell_type": "markdown",
      "source": [
        "14. Use `CountVectorizer()` or `TfidfVectorizer()` to convert text data to its numerical form.\n",
        "\n",
        "Put the converted data to **X_train_transformed** variable"
      ],
      "metadata": {
        "id": "eon5IhhRewJn"
      }
    },
    {
      "cell_type": "code",
      "source": [
        "# put your answer here"
      ],
      "metadata": {
        "id": "b95qPmsTewfG"
      },
      "execution_count": 19,
      "outputs": []
    },
    {
      "cell_type": "markdown",
      "source": [
        "15. Create an instance of `MultinomalNB()`"
      ],
      "metadata": {
        "id": "OxdKojNie3ss"
      }
    },
    {
      "cell_type": "code",
      "source": [
        "# put your answer here"
      ],
      "metadata": {
        "id": "jADaCXLne36S"
      },
      "execution_count": 20,
      "outputs": []
    },
    {
      "cell_type": "markdown",
      "source": [
        "16. Train the model using `.fit()`"
      ],
      "metadata": {
        "id": "sQ-o0zS0iip8"
      }
    },
    {
      "cell_type": "code",
      "source": [
        "# put your answer here"
      ],
      "metadata": {
        "id": "18taO8Uxii5Q"
      },
      "execution_count": 21,
      "outputs": []
    },
    {
      "cell_type": "markdown",
      "source": [
        "## D. Evaluate your model"
      ],
      "metadata": {
        "id": "InwOEEdjjPXS"
      }
    },
    {
      "cell_type": "markdown",
      "source": [
        "17. Use `.predict()` to generate model predictions using the **validation dataset**\n",
        "\n",
        "\n",
        "- Put all text validation data in **X_validation** variable\n",
        "\n",
        "- Convert **X_validation** to its numerical form.\n",
        "\n",
        "- Put the converted data to **X_validation_transformed**\n",
        "\n",
        "- Put all predictions in **y_validation_pred** variable"
      ],
      "metadata": {
        "id": "eDw6zehFizeY"
      }
    },
    {
      "cell_type": "code",
      "source": [
        "# put your answer here"
      ],
      "metadata": {
        "id": "I_HnXR5Mi6wG"
      },
      "execution_count": 22,
      "outputs": []
    },
    {
      "cell_type": "markdown",
      "source": [
        "18. Get the Accuracy, Precision, Recall and F1-Score of the model using the **validation dataset**\n",
        "\n",
        "- Put all validation data labels in **y_validation** variable"
      ],
      "metadata": {
        "id": "c4Vysvx0i7o7"
      }
    },
    {
      "cell_type": "code",
      "source": [
        "# put your answer here"
      ],
      "metadata": {
        "id": "qTOquylLjEYg"
      },
      "execution_count": 23,
      "outputs": []
    },
    {
      "cell_type": "markdown",
      "source": [
        "19. Create a confusion matrix using the **validation dataset**"
      ],
      "metadata": {
        "id": "hnHNHWXUjGa6"
      }
    },
    {
      "cell_type": "code",
      "source": [
        "# put your answer here"
      ],
      "metadata": {
        "id": "rHNBIJgJjIrw"
      },
      "execution_count": 24,
      "outputs": []
    },
    {
      "cell_type": "markdown",
      "source": [
        "20. Use `.predict()` to generate the model predictions using the **test dataset**\n",
        "\n",
        "\n",
        "- Put all text validation data in **X_test** variable\n",
        "\n",
        "- Convert **X_test** to its numerical form.\n",
        "\n",
        "- Put the converted data to **X_test_transformed**\n",
        "\n",
        "- Put all predictions in **y_test_pred** variable"
      ],
      "metadata": {
        "id": "551pFLGwjJq5"
      }
    },
    {
      "cell_type": "code",
      "source": [
        "# put your answer here"
      ],
      "metadata": {
        "id": "PGAop3xvjZo6"
      },
      "execution_count": 25,
      "outputs": []
    },
    {
      "cell_type": "markdown",
      "source": [
        "21. Get the Accuracy, Precision, Recall and F1-Score of the model using the **test dataset**\n",
        "\n",
        "- Put all test data labels in **y_validation** variable\n",
        "\n"
      ],
      "metadata": {
        "id": "WYA239MGjZ-0"
      }
    },
    {
      "cell_type": "code",
      "source": [
        "# put your answer here"
      ],
      "metadata": {
        "id": "cbEG7T4Gjfje"
      },
      "execution_count": 26,
      "outputs": []
    },
    {
      "cell_type": "markdown",
      "source": [
        "22. Create a confusion matrix using the **test dataset**"
      ],
      "metadata": {
        "id": "aA5_85ZXjgaz"
      }
    },
    {
      "cell_type": "code",
      "source": [
        "# put your answer here"
      ],
      "metadata": {
        "id": "BklrKazHji3L"
      },
      "execution_count": 27,
      "outputs": []
    },
    {
      "cell_type": "markdown",
      "source": [
        "## E. Test the model"
      ],
      "metadata": {
        "id": "yXT84y4upMOT"
      }
    },
    {
      "cell_type": "markdown",
      "source": [
        "23. Test the model by providing a non-hate speech input. The model should predict it as 0"
      ],
      "metadata": {
        "id": "FYtlFiBkpQHx"
      }
    },
    {
      "cell_type": "code",
      "source": [
        "# put your answer here"
      ],
      "metadata": {
        "id": "UlzOfYeBpgTH"
      },
      "execution_count": 28,
      "outputs": []
    },
    {
      "cell_type": "markdown",
      "source": [
        "24. Test the model by providing a hate speech input. The model should predict it as 1"
      ],
      "metadata": {
        "id": "4I9Y0_JiphfC"
      }
    },
    {
      "cell_type": "code",
      "source": [
        "# put your answer here"
      ],
      "metadata": {
        "id": "xsMkt3CKphwr"
      },
      "execution_count": 29,
      "outputs": []
    }
  ]
}